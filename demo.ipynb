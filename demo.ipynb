{
 "cells": [
  {
   "cell_type": "markdown",
   "metadata": {
    "slideshow": {
     "slide_type": "slide"
    }
   },
   "source": [
    "<figure style=\"text-align: center;\">\n",
    "    <img src=\"media/liveatManning-Logo.png\" width=\"40%\">\n",
    "    <caption>\n",
    "      <br>  \n",
    "        <strong></strong>\n",
    "    </caption>\n",
    "</figure>\n",
    "\n",
    "# `import qsharp` : _Using your Python skills to develop quantum programs_\n",
    "### [live@Manning Conference](https://freecontent.manning.com/livemanning-conferences-python/) #\n",
    "\n",
    "Dr. Sarah Kaiser |  [@crazy4pi314](twitter.com/crazy4pi314) |  14 July 2020\n",
    "\n",
    "---\n",
    "\n",
    "Talk slides/Jupyter Notebook can be found at [bit.ly/liveatManning-quantum](https://bit.ly/liveatManning-quantum)\n",
    "\n"
   ]
  },
  {
   "cell_type": "markdown",
   "metadata": {
    "slideshow": {
     "slide_type": "skip"
    }
   },
   "source": [
    "### Abstract\n",
    "Python excels in \"gluing\" different technology stacks together, making it an essential part of domains as disparate as data science and web development. As quantum computing continues to grow into an exciting new field, Python makes it easy to glue quantum programs into your existing workflows.  \n",
    "\n",
    "To best leverage the new hardware and model for computing, Sarah and Chris will introduce Q#, a new language specific to programming for quantum computers, and will show how you can `import qsharp` your way to quantum development.\n",
    "\n",
    "---\n",
    "\n",
    "#### Installation instructions for running this notebook on your machine can be found [here](https://docs.microsoft.com/en-ca/quantum/install-guide/python?view=qsharp-preview) or you can run this presentation in your browser [here](TODO)."
   ]
  },
  {
   "cell_type": "markdown",
   "metadata": {
    "slideshow": {
     "slide_type": "slide"
    }
   },
   "source": [
    "## `about_us.md`\n",
    "<br>\n",
    "\n",
    "<figure style=\"text-align: center;\">\n",
    "    <img src=\"media/about_us.png\" width=\"90%\">\n",
    "    <caption>\n",
    "      <br>  \n",
    "        <strong></strong>\n",
    "    </caption>\n",
    "</figure>"
   ]
  },
  {
   "cell_type": "markdown",
   "metadata": {
    "slideshow": {
     "slide_type": "slide"
    }
   },
   "source": [
    "## 💪Goals💪"
   ]
  },
  {
   "cell_type": "markdown",
   "metadata": {
    "slideshow": {
     "slide_type": "-"
    }
   },
   "source": [
    " I want to show **you**:\n",
    " \n",
    " - the Python skills you already have are a great start for quantum development\n",
    " - that you can learn the rest you need as you go\n",
    " \n",
    "In other words... \n",
    "\n",
    "_**You** can jump into writing code for a quantum computer today!_"
   ]
  },
  {
   "cell_type": "markdown",
   "metadata": {
    "slideshow": {
     "slide_type": "slide"
    }
   },
   "source": [
    "# Quantum Computing"
   ]
  },
  {
   "cell_type": "markdown",
   "metadata": {
    "slideshow": {
     "slide_type": "-"
    }
   },
   "source": [
    "### What do you know about it? 🤔"
   ]
  },
  {
   "cell_type": "markdown",
   "metadata": {
    "slideshow": {
     "slide_type": "slide"
    }
   },
   "source": [
    "## Quantum computers *are not* :\n",
    "\n",
    " 🦇 spooky \n",
    " \n",
    " 🙃 weird \n",
    " \n",
    " 💞 in two places at once \n",
    " \n",
    " 💻 going to replace your regular computer \n",
    " \n",
    " 🙀 cats (dead or alive)"
   ]
  },
  {
   "cell_type": "markdown",
   "metadata": {
    "slideshow": {
     "slide_type": "slide"
    }
   },
   "source": [
    "## Quantum computers *are* : \n",
    "\n",
    "🚄🖥 hardware accelerators (think GPUs)\n",
    "\n",
    "<br>\n",
    "\n",
    "<figure style=\"text-align: center;\">\n",
    "    <img src=\"media/what-is-qc.png\" width=\"70%\">\n",
    "    <caption>\n",
    "      <br>  \n",
    "        <strong></strong>\n",
    "    </caption>\n",
    "</figure>"
   ]
  },
  {
   "cell_type": "markdown",
   "metadata": {
    "slideshow": {
     "slide_type": "fragment"
    }
   },
   "source": [
    "> See Chapters 1 and 2 of our book for more!"
   ]
  },
  {
   "cell_type": "markdown",
   "metadata": {
    "slideshow": {
     "slide_type": "slide"
    }
   },
   "source": [
    "## Quantum programs are classical programs\n",
    "\n",
    "- Quantum programs are just classical programs that emit instructions for quantum hardware.\n",
    "\n",
    "```c#\n",
    "operation SayHello(name : String) : Unit {\n",
    "    Message($\"Hello World! Nice to meet you, {name}!\");\n",
    "}\n",
    "```\n"
   ]
  },
  {
   "cell_type": "markdown",
   "metadata": {
    "slideshow": {
     "slide_type": "slide"
    }
   },
   "source": [
    "## Where might we use quantum computers?\n",
    "\n",
    "- 🧪 Chemistry / material science\n",
    "- 🔑 Cryptography\n",
    "- 🧠 Machine learning\n",
    "- ... Help us find more!"
   ]
  },
  {
   "cell_type": "markdown",
   "metadata": {
    "slideshow": {
     "slide_type": "slide"
    }
   },
   "source": [
    "## How can Python help?\n",
    "\n",
    "\n",
    "There are **tons** of packages that can help you learn quantum computing, as well as write code for quantum computers.\n",
    "\n",
    "The ones we will look at today are:\n",
    "\n",
    "- [**`qsharp`**](https://docs.microsoft.com/en-us/quantum/?view=qsharp-preview): Python interoperabilty with Q#.\n",
    "- [**QuTiP**](http://qutip.org/): A Python package that will help understand the math behind quantum computing."
   ]
  },
  {
   "cell_type": "markdown",
   "metadata": {
    "slideshow": {
     "slide_type": "slide"
    }
   },
   "source": [
    "## Python + Q# = 💖\n",
    "\n",
    "<br>\n",
    "<figure style=\"text-align: center;\">\n",
    "    <img src=\"media/qsharp_software_stack.png\" width=\"60%\">\n",
    "    <caption>\n",
    "      <br>  \n",
    "        <strong></strong>\n",
    "    </caption>\n",
    "</figure>\n",
    "\n",
    "- Q# is an _open source, domain-specific_ programming language, included in the [Quantum Development Kit](https://docs.microsoft.com/en-us/quantum/install-guide/?view=qsharp-preview) (QDK), a development platform for expressing and executing quantum programs.\n",
    "- Allows you to write code the same way you think about it (high level of abstraction)\n",
    "> Designed to work with Azure Quantum to run your programs on quantum hardware.\n",
    "> Sign up for the preview at [azure.com/quantum](https://azure.com/quantum)."
   ]
  },
  {
   "cell_type": "markdown",
   "metadata": {
    "slideshow": {
     "slide_type": "slide"
    }
   },
   "source": [
    "#### For the demos here, we will be using a simulator target machine:\n",
    "\n",
    "<figure style=\"text-align: center;\">\n",
    "    <img src=\"media/qsharp_software_stack_highlight.png\" width=\"70%\">\n",
    "    <caption>\n",
    "      <br>  \n",
    "        <strong></strong>\n",
    "    </caption>\n",
    "</figure>\n",
    "\n",
    "> The Quantum Development Kit comes with a simulator that you can use; learn how to write your own quantum simulator in Chapters 2–5!"
   ]
  },
  {
   "cell_type": "markdown",
   "metadata": {
    "slideshow": {
     "slide_type": "slide"
    }
   },
   "source": [
    "# ⌚Demo Time⌚"
   ]
  },
  {
   "cell_type": "markdown",
   "metadata": {
    "slideshow": {
     "slide_type": "-"
    }
   },
   "source": [
    "Let's get started with Python by loading the package for Q# interoperability called `qsharp`."
   ]
  },
  {
   "cell_type": "code",
   "execution_count": 1,
   "metadata": {
    "slideshow": {
     "slide_type": "-"
    }
   },
   "outputs": [
    {
     "data": {
      "text/plain": [
       "{'iqsharp': LooseVersion ('0.12.20070124'),\n",
       " 'Jupyter Core': LooseVersion ('1.4.0.0'),\n",
       " '.NET Runtime': LooseVersion ('.NETCoreApp,Version=v3.1'),\n",
       " 'qsharp': LooseVersion ('0.12.2007.124')}"
      ]
     },
     "execution_count": 1,
     "metadata": {},
     "output_type": "execute_result"
    }
   ],
   "source": [
    "import qsharp\n",
    "qsharp.component_versions()"
   ]
  },
  {
   "cell_type": "markdown",
   "metadata": {
    "slideshow": {
     "slide_type": "slide"
    }
   },
   "source": [
    "# Task: Generate _quantum_ random numbers\n",
    "\n",
    "We want to make a truly* random source that can generate a list of random bits like this:"
   ]
  },
  {
   "cell_type": "code",
   "execution_count": null,
   "metadata": {
    "slideshow": {
     "slide_type": "-"
    }
   },
   "outputs": [],
   "source": [
    "randomness = [0,1,0,0,1,1,0,1,0,1]"
   ]
  },
  {
   "cell_type": "markdown",
   "metadata": {},
   "source": [
    "🏅**Bonus points:** share this randomness without sending the classical bits (send quantum information instead)\n",
    "\n",
    "\n",
    "<br><br>\n",
    "<tiny>*still simulated here so still pseudo-random</tiny>"
   ]
  },
  {
   "cell_type": "markdown",
   "metadata": {
    "slideshow": {
     "slide_type": "slide"
    }
   },
   "source": [
    "## Generating _quantum_ random numbers with Q\\# ##\n",
    "\n",
    "```c#\n",
    "// demo.qs\n",
    "namespace ManningLive.Demo {\n",
    "    operation SampleQrng() : Result {\n",
    "        using (qubit = Qubit()) {   // Preparing the qubit\n",
    "            H(qubit);               // Do operation H\n",
    "            return MResetZ(qubit);  // Measure and reset qubit\n",
    "        }\n",
    "    }\n",
    "}\n",
    "```\n",
    "How can we dive in to what is going on here?"
   ]
  },
  {
   "cell_type": "markdown",
   "metadata": {
    "slideshow": {
     "slide_type": "slide"
    }
   },
   "source": [
    "### Let's load the Q# code from Python!"
   ]
  },
  {
   "cell_type": "code",
   "execution_count": null,
   "metadata": {
    "slideshow": {
     "slide_type": "-"
    }
   },
   "outputs": [],
   "source": [
    "from ManningLive.Demo import SampleQrng"
   ]
  },
  {
   "cell_type": "markdown",
   "metadata": {
    "slideshow": {
     "slide_type": "slide"
    }
   },
   "source": [
    "## Understanding `SampleQrng`\n",
    "\n",
    "We can use built-in documentation strings, just like we can with Python functions."
   ]
  },
  {
   "cell_type": "code",
   "execution_count": null,
   "metadata": {
    "slideshow": {
     "slide_type": "-"
    }
   },
   "outputs": [],
   "source": [
    "?SampleQrng"
   ]
  },
  {
   "cell_type": "markdown",
   "metadata": {
    "slideshow": {
     "slide_type": "fragment"
    }
   },
   "source": [
    "That tells us what we can **do** with `SampleQrng`:"
   ]
  },
  {
   "cell_type": "code",
   "execution_count": null,
   "metadata": {
    "slideshow": {
     "slide_type": "fragment"
    }
   },
   "outputs": [],
   "source": [
    "[SampleQrng.simulate() for _ in range(10)]"
   ]
  },
  {
   "cell_type": "markdown",
   "metadata": {
    "slideshow": {
     "slide_type": "slide"
    }
   },
   "source": [
    "## Hold up: What is a qubit?"
   ]
  },
  {
   "cell_type": "markdown",
   "metadata": {
    "slideshow": {
     "slide_type": "-"
    }
   },
   "source": [
    "- Answer: a single unit of information in a quantum computer \n",
    "    - _quantum + bit = qubit_"
   ]
  },
  {
   "cell_type": "markdown",
   "metadata": {
    "slideshow": {
     "slide_type": "fragment"
    }
   },
   "source": [
    "- We can predict what a single qubit will do by using a column vector of 2 complex numbers* like this:\n",
    "\n",
    "<!--$\\left|{x}\\right\\rangle = \\left[\\begin{matrix} 1 + 0\\times i \\\\0 + 0\\times i \\end{matrix}\\right]$\n",
    "\n",
    "-->"
   ]
  },
  {
   "cell_type": "code",
   "execution_count": null,
   "metadata": {
    "slideshow": {
     "slide_type": "-"
    }
   },
   "outputs": [],
   "source": [
    "import qutip as qt\n",
    "\n",
    "initial_state = qt.basis(2, 0)\n",
    "initial_state"
   ]
  },
  {
   "cell_type": "markdown",
   "metadata": {
    "slideshow": {
     "slide_type": "fragment"
    }
   },
   "source": [
    "We say that this vector is the **state** of our qubit.\n",
    "\n",
    "Using quantum states, you can predict and simulate how quantum computers work!"
   ]
  },
  {
   "cell_type": "markdown",
   "metadata": {
    "slideshow": {
     "slide_type": "slide"
    }
   },
   "source": [
    "## What can we _do_ with a qubit?"
   ]
  },
  {
   "cell_type": "markdown",
   "metadata": {
    "slideshow": {
     "slide_type": "-"
    }
   },
   "source": [
    "Similar to classical bits on your computer, you can do three types of things with qubits:\n",
    "\n",
    "- Prepare a qubit\n",
    "- Do operations with a qubit\n",
    "- Measure a qubit, getting classical data back (e.g.: 0 or 1)\n",
    "\n"
   ]
  },
  {
   "cell_type": "markdown",
   "metadata": {
    "slideshow": {
     "slide_type": "slide"
    }
   },
   "source": [
    "```c#\n",
    "// demo.qs\n",
    "namespace ManningLive.Demo {\n",
    "    operation SampleQrng() : Result {\n",
    "        using (qubit = Qubit()) {   // Preparation\n",
    "            H(qubit);               // Operation \n",
    "            return M(qubit);  // Measurement\n",
    "        }\n",
    "    }\n",
    "}\n",
    "```"
   ]
  },
  {
   "cell_type": "markdown",
   "metadata": {
    "slideshow": {
     "slide_type": "slide"
    }
   },
   "source": [
    "### How can we \"get\" a qubit?"
   ]
  },
  {
   "cell_type": "code",
   "execution_count": null,
   "metadata": {
    "slideshow": {
     "slide_type": "-"
    }
   },
   "outputs": [],
   "source": [
    "prepare_qubit = qsharp.compile(\"\"\"\n",
    "open Microsoft.Quantum.Diagnostics;\n",
    "\n",
    "operation PrepareQubit() : Unit {\n",
    "    using (qubit = Qubit()) {     // We want 1 qubit to use for our task\n",
    "        DumpMachine();            // Print out what the simulator is keeping a record of\n",
    "    }\n",
    "}\n",
    "\"\"\")"
   ]
  },
  {
   "cell_type": "markdown",
   "metadata": {},
   "source": [
    "The `DumpMachine` call asks the simulator to print the state that it's using to simulate your quantum program."
   ]
  },
  {
   "cell_type": "code",
   "execution_count": null,
   "metadata": {
    "slideshow": {
     "slide_type": "-"
    }
   },
   "outputs": [],
   "source": [
    "prepare_qubit.simulate()"
   ]
  },
  {
   "cell_type": "markdown",
   "metadata": {
    "slideshow": {
     "slide_type": "skip"
    }
   },
   "source": [
    "You can read the above output like the vector we wrote above, where the first column is the index, the second is the real part of the vector at that position, and the second is the complex part of that vector entry."
   ]
  },
  {
   "cell_type": "markdown",
   "metadata": {
    "slideshow": {
     "slide_type": "slide"
    }
   },
   "source": [
    "What does `DumpMachine` tell us?\n",
    "\n",
    "```\n",
    "|0⟩\t1 + 0𝑖\n",
    "|1⟩\t0 + 0𝑖\n",
    "```\n",
    "\n",
    "This is the same state we saw earlier!"
   ]
  },
  {
   "cell_type": "code",
   "execution_count": null,
   "metadata": {
    "slideshow": {
     "slide_type": "-"
    }
   },
   "outputs": [],
   "source": [
    "initial_state"
   ]
  },
  {
   "cell_type": "markdown",
   "metadata": {
    "slideshow": {
     "slide_type": "slide"
    }
   },
   "source": [
    "### Learning quantum operations by inspection"
   ]
  },
  {
   "cell_type": "markdown",
   "metadata": {
    "slideshow": {
     "slide_type": "-"
    }
   },
   "source": [
    "We can use `DumpMachine` again to understand see what the `H` operation does to our qubit."
   ]
  },
  {
   "cell_type": "code",
   "execution_count": null,
   "metadata": {
    "slideshow": {
     "slide_type": "-"
    }
   },
   "outputs": [],
   "source": [
    "from ManningLive.Demo import QrngWithDiagnostics\n",
    "\n",
    "QrngWithDiagnostics.simulate()"
   ]
  },
  {
   "cell_type": "markdown",
   "metadata": {
    "slideshow": {
     "slide_type": "slide"
    }
   },
   "source": [
    "The operation `H` on our qubit puts our simulated qubit in **superposition**:\n",
    "\n",
    "```\n",
    "After using H(qubit) to create a superposition state:\n",
    "|0⟩\t0.7071067811865476 + 0𝑖\n",
    "|1⟩\t0.7071067811865476 + 0𝑖   \n",
    "```\n",
    "\n",
    "#### 🚨Note: `DumpMachine` is showing the information the simulator has!🚨"
   ]
  },
  {
   "cell_type": "code",
   "execution_count": null,
   "metadata": {},
   "outputs": [],
   "source": [
    "qt.qip.operations.hadamard_transform() * initial_state"
   ]
  },
  {
   "cell_type": "markdown",
   "metadata": {
    "slideshow": {
     "slide_type": "slide"
    }
   },
   "source": [
    "# How about more qubits?!\n",
    "\n",
    "\n",
    "\n",
    "<figure style=\"text-align: center;\">\n",
    "    <img src=\"https://disneygenderevolution.files.wordpress.com/2014/12/ariel-the-little-mermaid-i-want-more-gif.gif\" width=\"60%\">\n",
    "    <caption>\n",
    "      <br>  \n",
    "        <strong></strong>\n",
    "    </caption>\n",
    "</figure>"
   ]
  },
  {
   "cell_type": "markdown",
   "metadata": {
    "slideshow": {
     "slide_type": "slide"
    }
   },
   "source": [
    "## Operations with multiple qubits can create 💕entanglement💕"
   ]
  },
  {
   "cell_type": "markdown",
   "metadata": {
    "slideshow": {
     "slide_type": "-"
    }
   },
   "source": [
    "Using Q# with Python, we can also explore other quantum effects that you can use in your programs, like **entanglement**."
   ]
  },
  {
   "cell_type": "code",
   "execution_count": null,
   "metadata": {
    "scrolled": true,
    "slideshow": {
     "slide_type": "-"
    }
   },
   "outputs": [],
   "source": [
    "from ManningLive.Demo import EntangleQubits\n",
    "results = EntangleQubits.simulate(verbose=True)"
   ]
  },
  {
   "cell_type": "markdown",
   "metadata": {
    "slideshow": {
     "slide_type": "slide"
    }
   },
   "source": [
    "What does `DumpRegister` tell us this time?\n",
    "```\n",
    "|00⟩\t0.7071067811865476 + 0𝑖\n",
    "|01⟩\t0 + 0𝑖\n",
    "|10⟩\t0 + 0𝑖\n",
    "|11⟩\t0.7071067811865476 + 0𝑖\n",
    "```\n",
    "- ∣00❭➡ measuring both qubits give you `(0, 0)`\n",
    "- ∣11❭➡ measuring both qubits give you `(1, 1)`\n",
    "\n",
    "Using this state to predict measurement results, we don't know if we'll get `(0, 0)` or `(1, 1)`, but we can rule out `(0, 1)` and `(1, 0)`."
   ]
  },
  {
   "cell_type": "markdown",
   "metadata": {
    "slideshow": {
     "slide_type": "slide"
    }
   },
   "source": [
    "No matter how many times we run, both measurements are equal to each other!"
   ]
  },
  {
   "cell_type": "code",
   "execution_count": null,
   "metadata": {
    "slideshow": {
     "slide_type": "-"
    }
   },
   "outputs": [],
   "source": [
    "[EntangleQubits.simulate(verbose=False) for _ in range(10)]"
   ]
  },
  {
   "cell_type": "markdown",
   "metadata": {
    "slideshow": {
     "slide_type": "fragment"
    }
   },
   "source": [
    "## Bonus points: share the randomness\n",
    "\n",
    "- If you **entangle** two qubits and then share one, then you both measure you will have the same random number*.\n"
   ]
  },
  {
   "cell_type": "markdown",
   "metadata": {
    "slideshow": {
     "slide_type": "slide"
    }
   },
   "source": [
    "## Building up quantum algorithm: Deutsch–Jozsa "
   ]
  },
  {
   "cell_type": "markdown",
   "metadata": {
    "slideshow": {
     "slide_type": "-"
    }
   },
   "source": [
    "Back in the land of Camelot, the great wizard **Merlin**🧙‍♂️ has just encountered the lady of the lake, **Nimue**💃.\n",
    "\n",
    "All the while, **Arthur**⚔ and **Mordred**🛡 vie bitterly for the throne."
   ]
  },
  {
   "cell_type": "markdown",
   "metadata": {
    "slideshow": {
     "slide_type": "slide"
    }
   },
   "source": [
    "- **Nimue**💃 wants to make sure that **Merlin**🧙‍♂️ is steadfast in his judgment and sage in his council.\n",
    "- Caring not for the throne itself, **Nimue**💃 does not want to know whom **Merlin**🧙‍♂️ will choose."
   ]
  },
  {
   "cell_type": "markdown",
   "metadata": {},
   "source": [
    " > Can **Nimue**💃 test **Merlin**🧙‍♂️ without involving herself in the affairs of mortals?"
   ]
  },
  {
   "cell_type": "markdown",
   "metadata": {
    "slideshow": {
     "slide_type": "slide"
    }
   },
   "source": [
    "## The game of Kingmaker"
   ]
  },
  {
   "cell_type": "markdown",
   "metadata": {},
   "source": [
    "1. **Nimue**💃 asks **Merlin**🧙‍♂️ a single question of the form \"Should _`heir`_ be the king?\"\n",
    "2. **Merlin**🧙‍♂️ must respond with either \"yes\" or \"no,\" revealing nothing else."
   ]
  },
  {
   "cell_type": "markdown",
   "metadata": {},
   "source": [
    "### Merlin's possible strategies\n",
    "\n",
    "| | `heir` = Arthur | `heir` = Mordred | |\n",
    "|---|---|---|---|\n",
    "| Pick Arthur⚔ | yes | no | ☑ |\n",
    "| Pick Mordred🛡 | no | yes | ☑ |\n",
    "| Pick both | yes | yes | ☒ |\n",
    "| Pick neither | no | no | ☒ |"
   ]
  },
  {
   "cell_type": "markdown",
   "metadata": {
    "slideshow": {
     "slide_type": "slide"
    }
   },
   "source": [
    "- _Inputs_ ➡ **Nimue's**💃 question\n",
    "- _Outputs_ ➡ **Merlin's**🧙‍♂️ response\n",
    "<br>\n",
    "<br>\n",
    "<figure style=\"text-align: left;\">\n",
    "    <img src=\"media/twobit.png\" width=\"50%\">\n",
    "    <caption>\n",
    "      <br>  \n",
    "        <strong>Diagram of all possible one bit functions</strong>\n",
    "    </caption>\n",
    "</figure>"
   ]
  },
  {
   "cell_type": "markdown",
   "metadata": {
    "slideshow": {
     "slide_type": "slide"
    }
   },
   "source": [
    "> ### Deutsch–Jozsa Algorithim ###\n",
    ">\n",
    ">* **GIVEN:** A black box quantum operation (called an *oracle*) which acts on an input qubit and a target qubit.\n",
    ">  We are promised that the oracle is either _constant_ or _balanced_. \n",
    ">\t\t\t\t\t\n",
    ">* **GOAL:** to determine if the oracle is _constant_ or _balanced_.\n",
    "\n",
    "### ❕ Deutsch–Jozsa can solve Kingmaker in **one** query to a black box❕\n",
    "\n",
    "**Nimue**💃 is the lady of the lake, and hence has the power of quantum computing at her disposal.\n",
    "\n",
    "She can use _Deutsch-Jozsa_ to test **Merlin**🧙‍♂️ without meddling in the affairs of mortals!"
   ]
  },
  {
   "cell_type": "markdown",
   "metadata": {
    "slideshow": {
     "slide_type": "slide"
    }
   },
   "source": [
    "<figure style=\"text-align: left;\">\n",
    "    <img src=\"media/twobitDJ.png\" width=\"40%\">\n",
    "    <caption>\n",
    "      <br>  \n",
    "        <strong>Global property of the one bit functions: Constant or Balanced</strong>\n",
    "    </caption>\n",
    "</figure>"
   ]
  },
  {
   "cell_type": "markdown",
   "metadata": {
    "slideshow": {
     "slide_type": "slide"
    }
   },
   "source": [
    "```\n",
    "operation CheckIfOracleIsBalanced(\n",
    "    oracle : ((Qubit, Qubit) => Unit)\n",
    ") : Bool {\n",
    "    using ((control, target) = (Qubit(), Qubit())) {\n",
    "        // Prepare superposition on the control register.\n",
    "        H(control);                                   \n",
    "\n",
    "        // Use the phase kickback technique from Chapter 7\n",
    "        // to learn a global property of our oracle.\n",
    "        within {\n",
    "            X(target);\n",
    "            H(target);\n",
    "        } apply {\n",
    "            oracle(control, target);\n",
    "        }\n",
    "\n",
    "        return MResetX(control) == One;                \n",
    "    }\n",
    "}\n",
    "```"
   ]
  },
  {
   "cell_type": "markdown",
   "metadata": {
    "slideshow": {
     "slide_type": "slide"
    }
   },
   "source": [
    "## Let's run this Q\\# code and see what it does..."
   ]
  },
  {
   "cell_type": "code",
   "execution_count": null,
   "metadata": {
    "slideshow": {
     "slide_type": "-"
    }
   },
   "outputs": [],
   "source": [
    "is_zero_oracle_balanced = qsharp.compile(\"\"\"\n",
    "    open ManningLive.DeutschJozsa;\n",
    "\n",
    "    operation IsZeroOracleBalanced() : Bool {\n",
    "        return CheckIfOracleIsBalanced(true, ApplyZeroOracle);\n",
    "    }\n",
    "\"\"\")"
   ]
  },
  {
   "cell_type": "code",
   "execution_count": null,
   "metadata": {
    "slideshow": {
     "slide_type": "-"
    }
   },
   "outputs": [],
   "source": [
    "is_zero_oracle_balanced.simulate()"
   ]
  },
  {
   "cell_type": "markdown",
   "metadata": {
    "slideshow": {
     "slide_type": "slide"
    }
   },
   "source": [
    "Doing the same thing with the `one` oracle:"
   ]
  },
  {
   "cell_type": "code",
   "execution_count": null,
   "metadata": {},
   "outputs": [],
   "source": [
    "qsharp.compile(\"\"\"\n",
    "    open ManningLive.DeutschJozsa;\n",
    "\n",
    "    operation IsOneOracleBalanced() : Bool {\n",
    "        return CheckIfOracleIsBalanced(true, ApplyOneOracle);\n",
    "    }\n",
    "\"\"\").simulate()"
   ]
  },
  {
   "cell_type": "markdown",
   "metadata": {},
   "source": [
    "**NOTE:** The output states for the `zero` and `one` oracles differ only by a _global phase_ ; we can't tell which oracle we applied by looking at measurement results!"
   ]
  },
  {
   "cell_type": "markdown",
   "metadata": {
    "slideshow": {
     "slide_type": "slide"
    }
   },
   "source": [
    "<figure style=\"text-align: left;\">\n",
    "    <img src=\"media/twobitDJ.png\" width=\"40%\">\n",
    "    <caption>\n",
    "      <br>  \n",
    "        <strong>Global property of the one bit functions: Constant or Balanced</strong>\n",
    "    </caption>\n",
    "</figure>"
   ]
  },
  {
   "cell_type": "markdown",
   "metadata": {
    "slideshow": {
     "slide_type": "slide"
    }
   },
   "source": [
    "On the other hand, if we apply a balanced oracle instead, what happens?"
   ]
  },
  {
   "cell_type": "code",
   "execution_count": null,
   "metadata": {
    "slideshow": {
     "slide_type": "-"
    }
   },
   "outputs": [],
   "source": [
    "is_not_oracle_balanced = qsharp.compile(\"\"\"\n",
    "    open ManningLive.DeutschJozsa;\n",
    "\n",
    "    operation IsNotOracleBalanced(): Bool {\n",
    "        return CheckIfOracleIsBalanced(true, ApplyNotOracle);\n",
    "    }\n",
    "\"\"\")"
   ]
  },
  {
   "cell_type": "code",
   "execution_count": null,
   "metadata": {
    "slideshow": {
     "slide_type": "-"
    }
   },
   "outputs": [],
   "source": [
    "is_not_oracle_balanced.simulate()"
   ]
  },
  {
   "cell_type": "markdown",
   "metadata": {},
   "source": [
    "The sign in front of |00⟩ and |10⟩ changed, but |01⟩ and |11⟩ didn't, so it's not a _global_ phase, and we can measure it.\n",
    "\n",
    "**Nimue**💃 can tell whether the oracle is constant or balanced, but not anything else; exactly what she wanted!"
   ]
  },
  {
   "cell_type": "markdown",
   "metadata": {
    "slideshow": {
     "slide_type": "slide"
    }
   },
   "source": [
    "## Putting it all together: One query, one answer!"
   ]
  },
  {
   "cell_type": "code",
   "execution_count": null,
   "metadata": {
    "slideshow": {
     "slide_type": "-"
    }
   },
   "outputs": [],
   "source": [
    "from ManningLive.DeutschJozsa import RunDeutschJozsaAlgorithm"
   ]
  },
  {
   "cell_type": "code",
   "execution_count": null,
   "metadata": {
    "slideshow": {
     "slide_type": "-"
    }
   },
   "outputs": [],
   "source": [
    "RunDeutschJozsaAlgorithm.simulate(verbose=False)"
   ]
  },
  {
   "cell_type": "code",
   "execution_count": null,
   "metadata": {
    "slideshow": {
     "slide_type": "-"
    }
   },
   "outputs": [],
   "source": [
    "RunDeutschJozsaAlgorithm.simulate(verbose=True)"
   ]
  },
  {
   "cell_type": "markdown",
   "metadata": {
    "slideshow": {
     "slide_type": "slide"
    }
   },
   "source": [
    "## Camelot's future is safe!\n",
    "\n",
    "## You + Nimue💃 used a quantum algorithim to make sure of it 👍\n",
    "<br>\n",
    "<figure style=\"text-align: center;\">\n",
    "    <img src=\"https://thumbs.gfycat.com/SingleFatalAzurewingedmagpie-size_restricted.gif\" width=\"60%\">\n",
    "    <caption>\n",
    "      <br>  \n",
    "        <strong></strong>\n",
    "    </caption>\n",
    "</figure>\n"
   ]
  },
  {
   "cell_type": "markdown",
   "metadata": {
    "slideshow": {
     "slide_type": "slide"
    }
   },
   "source": [
    "## ... as long as Merlin🧙‍♂️ sticks to his role\n",
    "<bR>\n",
    "<figure style=\"text-align: center;\">\n",
    "    <img src=\"http://78.media.tumblr.com/tumblr_liogspF9bI1qh6b53o1_500.gif\" width=\"60%\">\n",
    "    <caption>\n",
    "      <br>  \n",
    "        <strong></strong>\n",
    "    </caption>\n",
    "</figure>"
   ]
  },
  {
   "cell_type": "markdown",
   "metadata": {
    "slideshow": {
     "slide_type": "slide"
    }
   },
   "source": [
    "# 📝 Review time 📝\n",
    "\n",
    "\n",
    "- Make random numbers ✔\n",
    "- Share random numbers with other people ✔\n",
    "- Help Nimue make sure Camelot is on the right track ✔\n",
    "- Use Python tools and skills to learn quantum computing ✔"
   ]
  },
  {
   "cell_type": "markdown",
   "metadata": {
    "slideshow": {
     "slide_type": "slide"
    }
   },
   "source": [
    "## ❔ What happens now ❔\n",
    "\n",
    "- Try Q# + Python for yourself!\n",
    "    - Learn by teaching\n",
    "    - Write blog posts\n",
    "    - Make tutorials\n",
    "- Make the community better than you found it!\n",
    "    - Contribute to docs\n",
    "    - Fix bugs/File issues\n",
    "- Act intentionally to include everyone and expand the community 💖"
   ]
  },
  {
   "cell_type": "markdown",
   "metadata": {
    "slideshow": {
     "slide_type": "slide"
    }
   },
   "source": [
    "## 👩‍💻Quantum programming resources!👩‍💻\n",
    "\n",
    "- [_Learn Quantum Computing with Python and Q#_](http://www.manning.com/?a_aid=learn-qc-kaiser), in MEAP from Manning Publications\n",
    "- Q# Documentation: [docs.microsoft.com/quantum](docs.microsoft.com/quantum)\n",
    "- Community projects:\n",
    "    - [qsharp.community](https://qsharp.community/)\n",
    "    - [quantumcomputing.stackexchange.com](https://quantumcomputing.stackexchange.com/)\n",
    "    - [Women in Quantum Computing and Algorithims](https://wiqca.dev)"
   ]
  },
  {
   "cell_type": "markdown",
   "metadata": {
    "slideshow": {
     "slide_type": "skip"
    }
   },
   "source": [
    "---\n",
    "\n",
    "## Helpful diagnostics :)"
   ]
  },
  {
   "cell_type": "code",
   "execution_count": null,
   "metadata": {
    "slideshow": {
     "slide_type": "skip"
    }
   },
   "outputs": [],
   "source": [
    "for component, version in sorted(qsharp.component_versions().items(), key=lambda x: x[0]):\n",
    "    print(f\"{component:20}{version}\")"
   ]
  },
  {
   "cell_type": "code",
   "execution_count": null,
   "metadata": {
    "slideshow": {
     "slide_type": "skip"
    }
   },
   "outputs": [],
   "source": [
    "import sys\n",
    "print(sys.version)"
   ]
  }
 ],
 "metadata": {
  "celltoolbar": "Slideshow",
  "kernelspec": {
   "display_name": "Python 3",
   "language": "python",
   "name": "python3"
  },
  "language_info": {
   "codemirror_mode": {
    "name": "ipython",
    "version": 3
   },
   "file_extension": ".py",
   "mimetype": "text/x-python",
   "name": "python",
   "nbconvert_exporter": "python",
   "pygments_lexer": "ipython3",
   "version": "3.7.8"
  },
  "livereveal": {
   "autolaunch": true,
   "scroll": true
  },
  "rise": {
   "controls": false
  }
 },
 "nbformat": 4,
 "nbformat_minor": 2
}
