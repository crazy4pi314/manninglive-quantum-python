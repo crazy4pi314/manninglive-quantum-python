{
 "cells": [
  {
   "cell_type": "markdown",
   "metadata": {
    "slideshow": {
     "slide_type": "slide"
    }
   },
   "source": [
    "# `import qsharp` : _Using your Python skills to develop quantum programs\n",
    "### [live@Manning Conference](https://freecontent.manning.com/livemanning-conferences-python/) #\n",
    "\n",
    "Dr. Sarah Kaiser |  [@crazy4pi314](twitter.com/crazy4pi314) |  14 July 2020\n",
    "\n",
    "---\n",
    "\n",
    "Talk slides/Jupyter Notebook can be found at [bit.ly/liveatManning-quantum](https://bit.ly/liveatManning-quantum)\n",
    "\n"
   ]
  },
  {
   "cell_type": "markdown",
   "metadata": {
    "slideshow": {
     "slide_type": "skip"
    }
   },
   "source": [
    "### Abstract\n",
    "Python excels in \"gluing\" different technology stacks together, making it an essential part of domains as disparate as data science and web development. As quantum computing continues to grow into an exciting new field, Python makes it easy to glue quantum programs into your existing workflows.  \n",
    "\n",
    "To best leverage the new hardware and model for computing, Sarah and Chris will introduce Q#, a new language specific to programming for quantum computers, and will show how you can `import qsharp` your way to quantum development.\n",
    "\n",
    "---\n",
    "\n",
    "#### Installation instructions for running this notebook on your machine can be found [here](https://docs.microsoft.com/en-ca/quantum/install-guide/python?view=qsharp-preview) or you can run this presentation in your browser [here](TODO)."
   ]
  },
  {
   "cell_type": "markdown",
   "metadata": {
    "slideshow": {
     "slide_type": "slide"
    }
   },
   "source": [
    "## `about_me.md`\n",
    "\n",
    "\n",
    "<figure style=\"text-align: center;\">\n",
    "    <img src=\"media/about_me.png\" width=\"70%\">\n",
    "    <caption>\n",
    "      <br>  \n",
    "        <strong></strong>\n",
    "    </caption>\n",
    "</figure>\n",
    "\n"
   ]
  },
  {
   "cell_type": "markdown",
   "metadata": {
    "slideshow": {
     "slide_type": "slide"
    }
   },
   "source": [
    "## 💪Goals💪"
   ]
  },
  {
   "cell_type": "markdown",
   "metadata": {
    "slideshow": {
     "slide_type": "-"
    }
   },
   "source": [
    " I want to show **you**:\n",
    " \n",
    " - the skills you already have are a great start for quantum development\n",
    " - that you can learn the rest you need as you go\n",
    " \n",
    "in other words... \n",
    "\n",
    "_You can jump into writing code for a quantum computer today!_"
   ]
  },
  {
   "cell_type": "markdown",
   "metadata": {
    "slideshow": {
     "slide_type": "slide"
    }
   },
   "source": [
    "# Quantum Computing"
   ]
  },
  {
   "cell_type": "markdown",
   "metadata": {
    "slideshow": {
     "slide_type": "-"
    }
   },
   "source": [
    "### What do you know about it? 🤔"
   ]
  },
  {
   "cell_type": "markdown",
   "metadata": {
    "slideshow": {
     "slide_type": "slide"
    }
   },
   "source": [
    "## Quantum computers *are not* :\n",
    "\n",
    " 🦇 spooky \n",
    " \n",
    " 🙃 weird \n",
    " \n",
    " 💞 in two places at once \n",
    " \n",
    " 💻 going to replace your regular computer \n",
    " \n",
    " 🙀 cats (dead or alive)"
   ]
  },
  {
   "cell_type": "markdown",
   "metadata": {
    "slideshow": {
     "slide_type": "slide"
    }
   },
   "source": [
    "## Quantum programs are classical programs\n",
    "\n",
    "- Quantum programs are just classical programs that emit instructions for quantum hardware.\n",
    "\n",
    "```c#\n",
    "operation SayHello(name: String) : Unit {\n",
    "    Message($\"Hello World! Nice to meet you, {name}!\");\n",
    "}\n",
    "```\n"
   ]
  },
  {
   "cell_type": "markdown",
   "metadata": {
    "slideshow": {
     "slide_type": "slide"
    }
   },
   "source": [
    "## Quantum computers *are* : \n",
    "\n",
    "🚄🖥 hardware accelerators (think GPUs)\n",
    "\n",
    "<br>\n",
    "\n",
    "<figure style=\"text-align: center;\">\n",
    "    <img src=\"media/what-is-qc.png\" width=\"70%\">\n",
    "    <caption>\n",
    "      <br>  \n",
    "        <strong></strong>\n",
    "    </caption>\n",
    "</figure>"
   ]
  },
  {
   "cell_type": "markdown",
   "metadata": {
    "slideshow": {
     "slide_type": "slide"
    }
   },
   "source": [
    "## Where might we use quantum computers?\n",
    "- Chemistry / material science\n",
    "- Cryptography\n",
    "- Machine learning\n",
    "- ... Help us find more!"
   ]
  },
  {
   "cell_type": "markdown",
   "metadata": {
    "slideshow": {
     "slide_type": "slide"
    }
   },
   "source": [
    "## How can Python help?\n",
    "\n",
    "There are **tons** of packages that can help you learn quantum computing, as well as write code for quantum computers.\n",
    "\n",
    "The one we will look at today is:\n",
    "\n",
    "- [`qsharp`](https://docs.microsoft.com/en-us/quantum/?view=qsharp-preview) - Python interoperabilty with Q#, a domain-specific programming language for quantum computers\n"
   ]
  },
  {
   "cell_type": "markdown",
   "metadata": {
    "slideshow": {
     "slide_type": "slide"
    }
   },
   "source": [
    "## Python + Q# = 💖\n",
    "\n",
    "- Q# is a domain-specific programming language, included in the [Quantum Development Kit](https://docs.microsoft.com/en-us/quantum/install-guide/?view=qsharp-preview) (QDK) which is a set of development tools used for expressing quantum algorithms.\n",
    "- ❤ Open source ❤\n",
    "- Allows you to write code the same way you think about it (high level of abstraction)\n",
    " <figure style=\"text-align: center;\">\n",
    "    <img src=\"media/qsharp_software_stack.png\" width=\"70%\">\n",
    "    <caption>\n",
    "      <br>  \n",
    "        <strong></strong>\n",
    "    </caption>\n",
    "</figure>"
   ]
  },
  {
   "cell_type": "markdown",
   "metadata": {
    "slideshow": {
     "slide_type": "slide"
    }
   },
   "source": [
    "#### For this talk we will be using a simulator target machine:\n",
    "\n",
    "<figure style=\"text-align: center;\">\n",
    "    <img src=\"media/qsharp_software_stack_highlight.png\" width=\"70%\">\n",
    "    <caption>\n",
    "      <br>  \n",
    "        <strong></strong>\n",
    "    </caption>\n",
    "</figure>\n"
   ]
  },
  {
   "cell_type": "markdown",
   "metadata": {
    "slideshow": {
     "slide_type": "slide"
    }
   },
   "source": [
    "## What skills can help you program a quantum computer?\n",
    "\n",
    "<figure style=\"text-align: center;\">\n",
    "    <img src=\"media/danger.png\" width=\"50%\">\n",
    "    <caption>\n",
    "      <br>  \n",
    "        <strong></strong>\n",
    "    </caption>\n",
    "</figure>\n"
   ]
  },
  {
   "cell_type": "markdown",
   "metadata": {
    "slideshow": {
     "slide_type": "slide"
    }
   },
   "source": [
    "## What skills can help you program a quantum computer?\n",
    "\n",
    "\n",
    "- Version control\n",
    "- Open source community tools (Pull requests, filing issues, etc)\n",
    "- Reading documentation\n",
    "- A bit of linear algebra, similar to data science or ML\n",
    "- A bit of math like complex numbers and trigonometry\n",
    "\n"
   ]
  },
  {
   "cell_type": "markdown",
   "metadata": {
    "slideshow": {
     "slide_type": "slide"
    }
   },
   "source": [
    "# ⌚Demo Time⌚"
   ]
  },
  {
   "cell_type": "markdown",
   "metadata": {
    "slideshow": {
     "slide_type": "-"
    }
   },
   "source": [
    "Let's get started with Python by loading the package for Q# interoperability called `qsharp`."
   ]
  },
  {
   "cell_type": "code",
   "execution_count": 5,
   "metadata": {
    "slideshow": {
     "slide_type": "-"
    }
   },
   "outputs": [
    {
     "data": {
      "text/plain": [
       "{'iqsharp': LooseVersion ('0.12.20070124'),\n",
       " 'Jupyter Core': LooseVersion ('1.4.0.0'),\n",
       " '.NET Runtime': LooseVersion ('.NETCoreApp,Version=v3.1'),\n",
       " 'qsharp': LooseVersion ('0.12.2007.124')}"
      ]
     },
     "execution_count": 5,
     "metadata": {},
     "output_type": "execute_result"
    }
   ],
   "source": [
    "import qsharp\n",
    "qsharp.component_versions()"
   ]
  },
  {
   "cell_type": "markdown",
   "metadata": {
    "slideshow": {
     "slide_type": "slide"
    }
   },
   "source": [
    "# Task: Quantum random numbers\n",
    "\n",
    "We want to use a truly* random source to generate a list of random bits like this:"
   ]
  },
  {
   "cell_type": "code",
   "execution_count": 2,
   "metadata": {
    "slideshow": {
     "slide_type": "-"
    }
   },
   "outputs": [],
   "source": [
    "randomness = [0,1,0,0,1,1,0,1,0,1]"
   ]
  },
  {
   "cell_type": "markdown",
   "metadata": {},
   "source": [
    "_Bonus points_ : share this randomness without sending the classical bits (send quantum information instead)\n",
    "\n",
    "<tiny>*still simulated here so still pseudo-random</tiny>"
   ]
  },
  {
   "cell_type": "markdown",
   "metadata": {
    "slideshow": {
     "slide_type": "slide"
    }
   },
   "source": [
    "## Generating _quantum_ random numbers with Q\\# ##\n",
    "\n",
    "```c#\n",
    "// demo.qs\n",
    "namespace ManningLive.Demo {\n",
    "    operation Qrng() : Result {\n",
    "        using (qubit = Qubit()) {   // Preparing the qubit\n",
    "            H(qubit);               // Do operation H\n",
    "            return MResetZ(qubit);  // Measure and reset qubit\n",
    "        }\n",
    "    }\n",
    "}\n",
    "```\n",
    "How can we dive in to what is going on here?"
   ]
  },
  {
   "cell_type": "markdown",
   "metadata": {
    "slideshow": {
     "slide_type": "slide"
    }
   },
   "source": [
    "### Let's load the Q# code from Python!"
   ]
  },
  {
   "cell_type": "code",
   "execution_count": 3,
   "metadata": {
    "slideshow": {
     "slide_type": "-"
    }
   },
   "outputs": [],
   "source": [
    "from ManningLive.Demo import Qrng"
   ]
  },
  {
   "cell_type": "markdown",
   "metadata": {
    "slideshow": {
     "slide_type": "slide"
    }
   },
   "source": [
    "## Understanding `Qrng`\n",
    "\n",
    "We can use built-in documentation strings, just like we can with Python functions."
   ]
  },
  {
   "cell_type": "code",
   "execution_count": 4,
   "metadata": {
    "slideshow": {
     "slide_type": "-"
    }
   },
   "outputs": [],
   "source": [
    "?Qrng"
   ]
  },
  {
   "cell_type": "markdown",
   "metadata": {
    "slideshow": {
     "slide_type": "fragment"
    }
   },
   "source": [
    "That tells us what we can **do** with `Qrng`:"
   ]
  },
  {
   "cell_type": "code",
   "execution_count": 5,
   "metadata": {
    "slideshow": {
     "slide_type": "fragment"
    }
   },
   "outputs": [
    {
     "data": {
      "text/plain": [
       "[1, 1, 1, 0, 0, 0, 1, 1, 0, 0]"
      ]
     },
     "execution_count": 5,
     "metadata": {},
     "output_type": "execute_result"
    }
   ],
   "source": [
    "[Qrng.simulate() for _ in range(10)]"
   ]
  },
  {
   "cell_type": "markdown",
   "metadata": {
    "slideshow": {
     "slide_type": "slide"
    }
   },
   "source": [
    "## Hold up: What is a qubit?"
   ]
  },
  {
   "cell_type": "markdown",
   "metadata": {
    "slideshow": {
     "slide_type": "-"
    }
   },
   "source": [
    "- Answer: a single unit of information in a quantum computer \n",
    "    - _quantum + bit = qubit_"
   ]
  },
  {
   "cell_type": "markdown",
   "metadata": {
    "slideshow": {
     "slide_type": "fragment"
    }
   },
   "source": [
    "- We can predict what a single qubit will do by using a column vector of 2 complex numbers* like this:\n",
    "\n",
    "<!--$\\left|{x}\\right\\rangle = \\left[\\begin{matrix} 1 + 0\\times i \\\\0 + 0\\times i \\end{matrix}\\right]$\n",
    "\n",
    "\n",
    "-->"
   ]
  },
  {
   "cell_type": "code",
   "execution_count": 6,
   "metadata": {
    "slideshow": {
     "slide_type": "-"
    }
   },
   "outputs": [
    {
     "name": "stdout",
     "output_type": "stream",
     "text": [
      "[[1.+0.j]\n",
      " [0.+0.j]]\n"
     ]
    }
   ],
   "source": [
    "import numpy as np\n",
    "\n",
    "qubit = np.array([[1],[0]],dtype=complex)\n",
    "print(qubit)"
   ]
  },
  {
   "cell_type": "markdown",
   "metadata": {
    "slideshow": {
     "slide_type": "slide"
    }
   },
   "source": [
    "## What can we _do_ with a qubit?"
   ]
  },
  {
   "cell_type": "markdown",
   "metadata": {
    "slideshow": {
     "slide_type": "-"
    }
   },
   "source": [
    "Similar to classical bits on your computer, you can do three types of things with qubits:\n",
    "\n",
    "- Prepare a qubit\n",
    "- Do operations with a qubit\n",
    "- Measure a qubit : returns a 0 or 1\n",
    "\n"
   ]
  },
  {
   "cell_type": "markdown",
   "metadata": {
    "slideshow": {
     "slide_type": "slide"
    }
   },
   "source": [
    "```c#\n",
    "// demo.qs\n",
    "namespace ManningLive.Demo {\n",
    "    operation Qrng() : Result {\n",
    "        using (qubit = Qubit()) {   // Preparing \n",
    "            H(qubit);               // Operation \n",
    "            return MResetZ(qubit);  // Measure and reset \n",
    "        }\n",
    "    }\n",
    "}\n",
    "```"
   ]
  },
  {
   "cell_type": "markdown",
   "metadata": {
    "slideshow": {
     "slide_type": "slide"
    }
   },
   "source": [
    "### How can we \"get\" a qubit?"
   ]
  },
  {
   "cell_type": "code",
   "execution_count": 7,
   "metadata": {
    "slideshow": {
     "slide_type": "-"
    }
   },
   "outputs": [],
   "source": [
    "prepare_qubit = qsharp.compile(\"\"\"\n",
    "open Microsoft.Quantum.Diagnostics;\n",
    "\n",
    "operation PrepareQubit() : Unit {\n",
    "    using (qubit = Qubit()) {     // We want 1 qubit to use for our task\n",
    "        DumpMachine();            // Print out what the simulator is keeping a record of\n",
    "    }\n",
    "}\n",
    "\"\"\")"
   ]
  },
  {
   "cell_type": "code",
   "execution_count": 8,
   "metadata": {
    "slideshow": {
     "slide_type": "-"
    }
   },
   "outputs": [
    {
     "name": "stdout",
     "output_type": "stream",
     "text": [
      "|0⟩\t1 + 0𝑖\n",
      "|1⟩\t0 + 0𝑖"
     ]
    },
    {
     "data": {
      "text/plain": [
       "()"
      ]
     },
     "execution_count": 8,
     "metadata": {},
     "output_type": "execute_result"
    }
   ],
   "source": [
    "prepare_qubit.simulate()"
   ]
  },
  {
   "cell_type": "markdown",
   "metadata": {
    "slideshow": {
     "slide_type": "skip"
    }
   },
   "source": [
    "You can read the above output like the vector we wrote above, where the first column is the index, the second is the real part of the vector at that position, and the second is the complex part of that vector entry."
   ]
  },
  {
   "cell_type": "markdown",
   "metadata": {
    "slideshow": {
     "slide_type": "slide"
    }
   },
   "source": [
    "What does `DumpMachine` tell us?\n",
    "\n",
    "```\n",
    "# wave function for qubits with ids (least to most significant): 0\n",
    "∣0❭:\t 1.000000 +  0.000000 i\t == \t******************** [ 1.000000 ]\n",
    "∣1❭:\t 0.000000 +  0.000000 i\t == \t                     [ 0.000000 ] \n",
    "```\n",
    "\n",
    "This is the same state we saw earlier!"
   ]
  },
  {
   "cell_type": "code",
   "execution_count": 9,
   "metadata": {
    "slideshow": {
     "slide_type": "-"
    }
   },
   "outputs": [
    {
     "name": "stdout",
     "output_type": "stream",
     "text": [
      "[[1.+0.j]\n",
      " [0.+0.j]]\n"
     ]
    }
   ],
   "source": [
    "print(qubit)"
   ]
  },
  {
   "cell_type": "markdown",
   "metadata": {
    "slideshow": {
     "slide_type": "slide"
    }
   },
   "source": [
    "### Learning quantum operations by inspection"
   ]
  },
  {
   "cell_type": "markdown",
   "metadata": {
    "slideshow": {
     "slide_type": "-"
    }
   },
   "source": [
    "We can use `DumpMachine` again to understand see what the `H` operation does to our qubit."
   ]
  },
  {
   "cell_type": "code",
   "execution_count": 10,
   "metadata": {
    "slideshow": {
     "slide_type": "-"
    }
   },
   "outputs": [
    {
     "name": "stdout",
     "output_type": "stream",
     "text": [
      "Here is what the simulator uses to record a qubit in the 0 state:\r\n",
      "|0⟩\t1 + 0𝑖\n",
      "|1⟩\t0 + 0𝑖 \r\n",
      "After using H(qubit) to create a superposition state:\r\n",
      "|0⟩\t0.7071067811865476 + 0𝑖\n",
      "|1⟩\t0.7071067811865476 + 0𝑖"
     ]
    },
    {
     "data": {
      "text/plain": [
       "0"
      ]
     },
     "execution_count": 10,
     "metadata": {},
     "output_type": "execute_result"
    }
   ],
   "source": [
    "from ManningLive.Demo import QrngWithDiagnostics\n",
    "\n",
    "QrngWithDiagnostics.simulate()"
   ]
  },
  {
   "cell_type": "markdown",
   "metadata": {
    "slideshow": {
     "slide_type": "slide"
    }
   },
   "source": [
    "The operation `H` on our qubit puts our simulated qubit in **superposition**\n",
    "\n",
    "```\n",
    "After using H(qubit) to create a superposition state:\n",
    "# wave function for qubits with ids (least to most significant): 0\n",
    "∣0❭:\t 0.707107 +  0.000000 i\t == \t***********          [ 0.500000 ]     \n",
    "∣1❭:\t 0.707107 +  0.000000 i\t == \t***********          [ 0.500000 ]     \n",
    "```\n",
    "\n",
    "#### 🚨Note: `DumpMachine` is showing the information the simulator has!🚨"
   ]
  },
  {
   "cell_type": "markdown",
   "metadata": {
    "slideshow": {
     "slide_type": "slide"
    }
   },
   "source": [
    "# How about more qubits?!\n",
    "\n",
    "\n",
    "\n",
    "<figure style=\"text-align: center;\">\n",
    "    <img src=\"https://disneygenderevolution.files.wordpress.com/2014/12/ariel-the-little-mermaid-i-want-more-gif.gif\" width=\"60%\">\n",
    "    <caption>\n",
    "      <br>  \n",
    "        <strong></strong>\n",
    "    </caption>\n",
    "</figure>"
   ]
  },
  {
   "cell_type": "markdown",
   "metadata": {
    "slideshow": {
     "slide_type": "slide"
    }
   },
   "source": [
    "## Operations with multiple qubits can create 💕entanglement💕"
   ]
  },
  {
   "cell_type": "markdown",
   "metadata": {
    "slideshow": {
     "slide_type": "-"
    }
   },
   "source": [
    "Using Q# with Python, we can also explore other quantum development tools, like **entanglement**."
   ]
  },
  {
   "cell_type": "code",
   "execution_count": 11,
   "metadata": {
    "slideshow": {
     "slide_type": "-"
    }
   },
   "outputs": [
    {
     "name": "stdout",
     "output_type": "stream",
     "text": [
      "State of inital two qubits:\r\n",
      "|0⟩\t1 + 0𝑖\n",
      "|1⟩\t0 + 0𝑖\n",
      "|2⟩\t0 + 0𝑖\n",
      "|3⟩\t0 + 0𝑖 \r\n",
      "After entangling the two qubits:\r\n",
      "|0⟩\t0.7071067811865476 + 0𝑖\n",
      "|1⟩\t0 + 0𝑖\n",
      "|2⟩\t0 + 0𝑖\n",
      "|3⟩\t0.7071067811865476 + 0𝑖"
     ]
    }
   ],
   "source": [
    "from ManningLive.Demo import EntangleQubits\n",
    "results = EntangleQubits.simulate(verbose=True)"
   ]
  },
  {
   "cell_type": "markdown",
   "metadata": {
    "slideshow": {
     "slide_type": "slide"
    }
   },
   "source": [
    "What does `DumpRegister` tell us this time?\n",
    "```\n",
    "# wave function for qubits with ids (least to most significant): 0;1\n",
    "∣0❭:\t 0.707107 +  0.000000 i\t == \t***********          [ 0.500000 ]\n",
    "∣1❭:\t 0.000000 +  0.000000 i\t == \t                     [ 0.000000 ]                   \n",
    "∣2❭:\t 0.000000 +  0.000000 i\t == \t                     [ 0.000000 ]                   \n",
    "∣3❭:\t 0.707107 +  0.000000 i\t == \t***********          [ 0.500000 ]\n",
    "```\n",
    "- ∣0❭➡ measuring both qubits give you (0,0)\n",
    "- ∣3❭➡ measuring both qubits give you (1,1)"
   ]
  },
  {
   "cell_type": "markdown",
   "metadata": {
    "slideshow": {
     "slide_type": "slide"
    }
   },
   "source": [
    "No matter how many times we run, both measurements are equal to each other!"
   ]
  },
  {
   "cell_type": "code",
   "execution_count": 12,
   "metadata": {
    "slideshow": {
     "slide_type": "-"
    }
   },
   "outputs": [
    {
     "data": {
      "text/plain": [
       "[(1, 1),\n",
       " (0, 0),\n",
       " (1, 1),\n",
       " (0, 0),\n",
       " (0, 0),\n",
       " (0, 0),\n",
       " (1, 1),\n",
       " (0, 0),\n",
       " (1, 1),\n",
       " (1, 1)]"
      ]
     },
     "execution_count": 12,
     "metadata": {},
     "output_type": "execute_result"
    }
   ],
   "source": [
    "[EntangleQubits.simulate(verbose=False) for _ in range(10)]"
   ]
  },
  {
   "cell_type": "markdown",
   "metadata": {
    "slideshow": {
     "slide_type": "slide"
    }
   },
   "source": [
    "## Bonus points: share the randomness\n",
    "\n",
    "- If you **entangle** two qubits and then share one, then you both measure you will have the same random number*.\n"
   ]
  },
  {
   "cell_type": "code",
   "execution_count": 13,
   "metadata": {
    "slideshow": {
     "slide_type": "-"
    }
   },
   "outputs": [
    {
     "data": {
      "text/plain": [
       "[(1, 1),\n",
       " (1, 1),\n",
       " (0, 0),\n",
       " (0, 0),\n",
       " (1, 1),\n",
       " (0, 0),\n",
       " (1, 1),\n",
       " (0, 0),\n",
       " (1, 1),\n",
       " (0, 0)]"
      ]
     },
     "execution_count": 13,
     "metadata": {},
     "output_type": "execute_result"
    }
   ],
   "source": [
    "[EntangleQubits.simulate(verbose=False) for _ in range(10)]"
   ]
  },
  {
   "cell_type": "markdown",
   "metadata": {
    "slideshow": {
     "slide_type": "slide"
    }
   },
   "source": [
    "\n",
    "## Toy quantum algorithm: Deutsch–Jozsa "
   ]
  },
  {
   "cell_type": "markdown",
   "metadata": {
    "slideshow": {
     "slide_type": "-"
    }
   },
   "source": [
    "_If I had a function that had one bit input and output, how many different options would I have?_"
   ]
  },
  {
   "cell_type": "markdown",
   "metadata": {
    "slideshow": {
     "slide_type": "-"
    }
   },
   "source": [
    "<figure style=\"text-align: center;\">\n",
    "    <img src=\"media/twobit.png\" width=\"50%\">\n",
    "    <caption>\n",
    "      <br>  \n",
    "        <strong>Diagram of all possible one bit functions</strong>\n",
    "    </caption>\n",
    "</figure>"
   ]
  },
  {
   "cell_type": "markdown",
   "metadata": {
    "slideshow": {
     "slide_type": "slide"
    }
   },
   "source": [
    ">#### Deutsch–Jozsa Algorithim ####\n",
    ">**Problem statement:**\n",
    ">\n",
    ">* **GIVEN:** A black box quantum operation which takes 1 input bit and produces either a 0 or a 1 as output. We are promised that the box is either _constant_ or _balanced_. \n",
    ">\t\t\t\t\t\n",
    ">* **GOAL:** to determine if the box output is _constant_ or _balanced_ by evaluating sample inputs.\n",
    "\n",
    "Deutsch–Jozsa can do this in **one** query to the black box!"
   ]
  },
  {
   "cell_type": "markdown",
   "metadata": {
    "slideshow": {
     "slide_type": "slide"
    }
   },
   "source": [
    "<figure style=\"text-align: center;\">\n",
    "    <img src=\"media/twobitDJ.png\" width=\"40%\">\n",
    "    <caption>\n",
    "      <br>  \n",
    "        <strong>Global property of the one bit functions: Constant or Balanced</strong>\n",
    "    </caption>\n",
    "</figure>"
   ]
  },
  {
   "cell_type": "markdown",
   "metadata": {
    "slideshow": {
     "slide_type": "slide"
    }
   },
   "source": [
    "## Let's load some Q\\# code from the directory..."
   ]
  },
  {
   "cell_type": "code",
   "execution_count": 20,
   "metadata": {},
   "outputs": [],
   "source": [
    "qsharp.reload()"
   ]
  },
  {
   "cell_type": "code",
   "execution_count": 13,
   "metadata": {
    "slideshow": {
     "slide_type": "-"
    }
   },
   "outputs": [],
   "source": [
    "is_zero_oracle_balanced = qsharp.compile(\"\"\"\n",
    "open ManningLive.DeutschJozsa;\n",
    "\n",
    "operation IsZeroOracleBalanced(): Bool {\n",
    "    return CheckIfOracleIsBalanced(ApplyZeroOracle);\n",
    "}\n",
    "\"\"\")"
   ]
  },
  {
   "cell_type": "code",
   "execution_count": 14,
   "metadata": {
    "slideshow": {
     "slide_type": "-"
    }
   },
   "outputs": [
    {
     "data": {
      "text/plain": [
       "False"
      ]
     },
     "execution_count": 14,
     "metadata": {},
     "output_type": "execute_result"
    }
   ],
   "source": [
    "is_zero_oracle_balanced.simulate()"
   ]
  },
  {
   "cell_type": "markdown",
   "metadata": {
    "slideshow": {
     "slide_type": "slide"
    }
   },
   "source": [
    "<figure style=\"text-align: center;\">\n",
    "    <img src=\"media/twobitDJ.png\" width=\"40%\">\n",
    "    <caption>\n",
    "      <br>  \n",
    "        <strong>Global property of the one bit functions: Constant or Balanced</strong>\n",
    "    </caption>\n",
    "</figure>"
   ]
  },
  {
   "cell_type": "code",
   "execution_count": 15,
   "metadata": {
    "slideshow": {
     "slide_type": "slide"
    }
   },
   "outputs": [],
   "source": [
    "is_not_oracle_balanced = qsharp.compile(\"\"\"\n",
    "open ManningLive.DeutschJozsa;\n",
    "\n",
    "operation IsNotOracleBalanced(): Bool {\n",
    "    return CheckIfOracleIsBalanced(ApplyNotOracle);\n",
    "}\n",
    "\"\"\")"
   ]
  },
  {
   "cell_type": "code",
   "execution_count": 16,
   "metadata": {
    "slideshow": {
     "slide_type": "-"
    }
   },
   "outputs": [
    {
     "data": {
      "text/plain": [
       "True"
      ]
     },
     "execution_count": 16,
     "metadata": {},
     "output_type": "execute_result"
    }
   ],
   "source": [
    "is_not_oracle_balanced.simulate()"
   ]
  },
  {
   "cell_type": "markdown",
   "metadata": {
    "slideshow": {
     "slide_type": "slide"
    }
   },
   "source": [
    "## Putting it all together: One query, one answer!"
   ]
  },
  {
   "cell_type": "code",
   "execution_count": 21,
   "metadata": {
    "slideshow": {
     "slide_type": "-"
    }
   },
   "outputs": [],
   "source": [
    "from ManningLive.DeutschJozsa import RunDeutschJozsaAlgorithm"
   ]
  },
  {
   "cell_type": "code",
   "execution_count": 22,
   "metadata": {
    "slideshow": {
     "slide_type": "-"
    }
   },
   "outputs": [
    {
     "name": "stdout",
     "output_type": "stream",
     "text": [
      "All tests passed!\r\n"
     ]
    },
    {
     "data": {
      "text/plain": [
       "()"
      ]
     },
     "execution_count": 22,
     "metadata": {},
     "output_type": "execute_result"
    }
   ],
   "source": [
    "RunDeutschJozsaAlgorithm.simulate(verbose=False)"
   ]
  },
  {
   "cell_type": "code",
   "execution_count": 23,
   "metadata": {
    "slideshow": {
     "slide_type": "-"
    }
   },
   "outputs": [
    {
     "name": "stdout",
     "output_type": "stream",
     "text": [
      "The ZeroOracle is Balanced: False\r\n",
      "The OneOracle is Balanced: False\r\n",
      "The IdOracle is Balanced: True\r\n",
      "The NotOracle is Balanced: True\r\n",
      "All tests passed!\r\n"
     ]
    },
    {
     "data": {
      "text/plain": [
       "()"
      ]
     },
     "execution_count": 23,
     "metadata": {},
     "output_type": "execute_result"
    }
   ],
   "source": [
    "RunDeutschJozsaAlgorithm.simulate(verbose=True)"
   ]
  },
  {
   "cell_type": "markdown",
   "metadata": {
    "slideshow": {
     "slide_type": "slide"
    }
   },
   "source": [
    "## What happens now?\n",
    "\n",
    "- Try Q# + Python for yourself!\n",
    "    - Learn by teaching\n",
    "    - Write blog posts\n",
    "    - Make tutorials\n",
    "- Make the community better than you found it!\n",
    "    - Contribute to docs\n",
    "    - Fix bugs/File issues\n",
    "- Act intentionally to include everyone and expand the community 💖"
   ]
  },
  {
   "cell_type": "markdown",
   "metadata": {
    "slideshow": {
     "slide_type": "slide"
    }
   },
   "source": [
    "# 📝 Review time 📝\n",
    "\n",
    "- Make random numbers ✔\n",
    "- Share random numbers with other people ✔\n",
    "- Use Python tools and skills to learn quantum computing ✔"
   ]
  },
  {
   "cell_type": "markdown",
   "metadata": {
    "slideshow": {
     "slide_type": "slide"
    }
   },
   "source": [
    "## 👩‍💻Quantum programming resources!👩‍💻\n",
    "\n",
    "- Community projects:\n",
    "    - [qsharp.community](https://qsharp.community/)\n",
    "    - [quantumcomputing.stackexchange.com](https://quantumcomputing.stackexchange.com/)\n",
    "- Q# Documentation: [docs.microsoft.com/quantum](docs.microsoft.com/quantum)\n",
    "- Books like [_Learn Quantum Computing with Python and Q#_](http://www.manning.com/?a_aid=learn-qc-kaiser) (in early access)\n",
    "    - use **mtpqupy40** for 40% off at [bit.ly/qsharp-book](bit.ly/qsharp-book)\n",
    "- New Seattle meetup group: **✨WIQCA✨**\n",
    "    - Please join the Women in quantum computing and algorithims group mailing list! [bit.ly/wiqca-email](http://bit.ly/wiqca-email)\n"
   ]
  },
  {
   "cell_type": "markdown",
   "metadata": {
    "slideshow": {
     "slide_type": "skip"
    }
   },
   "source": [
    "---\n",
    "\n",
    "## Helpful diagnostics :)"
   ]
  },
  {
   "cell_type": "code",
   "execution_count": 18,
   "metadata": {
    "slideshow": {
     "slide_type": "skip"
    }
   },
   "outputs": [
    {
     "name": "stdout",
     "output_type": "stream",
     "text": [
      ".NET Runtime        .NETCoreApp,Version=v3.1\n",
      "Jupyter Core        1.4.0.0\n",
      "iqsharp             0.12.20070124\n",
      "qsharp              0.12.2007.124\n"
     ]
    }
   ],
   "source": [
    "for component, version in sorted(qsharp.component_versions().items(), key=lambda x: x[0]):\n",
    "    print(f\"{component:20}{version}\")"
   ]
  },
  {
   "cell_type": "code",
   "execution_count": 19,
   "metadata": {
    "slideshow": {
     "slide_type": "skip"
    }
   },
   "outputs": [
    {
     "name": "stdout",
     "output_type": "stream",
     "text": [
      "3.7.6 | packaged by conda-forge | (default, Jun  1 2020, 18:11:50) [MSC v.1916 64 bit (AMD64)]\n"
     ]
    }
   ],
   "source": [
    "import sys\n",
    "print(sys.version)"
   ]
  }
 ],
 "metadata": {
  "celltoolbar": "Slideshow",
  "kernelspec": {
   "display_name": "Python 3",
   "language": "python",
   "name": "python3"
  },
  "language_info": {
   "codemirror_mode": {
    "name": "ipython",
    "version": 3
   },
   "file_extension": ".py",
   "mimetype": "text/x-python",
   "name": "python",
   "nbconvert_exporter": "python",
   "pygments_lexer": "ipython3",
   "version": "3.7.6"
  },
  "livereveal": {
   "autolaunch": true,
   "scroll": true
  },
  "rise": {
   "controls": false,
   "footer": "<h2>@crazy4pi314</h2>"
  }
 },
 "nbformat": 4,
 "nbformat_minor": 2
}
